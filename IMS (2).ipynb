{
 "cells": [
  {
   "cell_type": "code",
   "execution_count": 11,
   "id": "74ce6b2c",
   "metadata": {},
   "outputs": [],
   "source": [
    "import json\n",
    "\n",
    "fd = open(\"record.json\",\"r\")\n",
    "r = fd.read()\n",
    "fd.close()\n",
    "\n",
    "record = json.loads(r)"
   ]
  },
  {
   "cell_type": "code",
   "execution_count": 12,
   "id": "4ab74376",
   "metadata": {},
   "outputs": [
    {
     "name": "stdout",
     "output_type": "stream",
     "text": [
      "***********Show the available Products***********\n",
      " {'1001': {'Name': 'Refrigerator', 'Brand': 'Whirlpool', 'Price': 15000, 'Quantity': 40, 'Discount': 5}, '1002': {'Name': 'TV', 'Brand': 'SONY', 'Price': 30000, 'Quantity': 30, 'Discount': 5}, '1003': {'Name': 'Microwave Oven', 'Brand': 'Philips', 'Price': 5000, 'Quantity': 15, 'Discount': 5}, '1004': {'Name': 'Food Processor', 'Brand': 'Bajaj', 'Price': 4000, 'Quantity': 20, 'Discount': 5}, '1005': {'Name': 'Fan', 'Brand': 'Bajaj', 'Price': 1500, 'Quantity': 25, 'Discount': 5}, '1006': {'Name': 'Watch', 'Brand': 'Timex', 'Price': 4500, 'Quantity': 25, 'Discount': 5}, '1007': {'Name': 'Washing Machine', 'Brand': 'Whirlpool', 'Price': 14000, 'Quantity': 8, 'Discount': 5}, '1008': {'Name': 'Iron', 'Brand': 'Bajaj', 'Price': 500, 'Quantity': 25, 'Discount': 5}, '1009': {'Name': 'Bread maker', 'Brand': 'Bajaj', 'Price': 1500, 'Quantity': 25, 'Discount': 5}, '1010': {'Name': '', 'Brand': 'Bajaj', 'Price': 1500, 'Quantity': 25, 'Discount': 5}, '1011': {'Name': 'Coffeemaker', 'Brand': 'Finero', 'Price': 13000, 'Quantity': 20, 'Discount': 5}, '1012': {'Name': 'Ice cream maker', 'Brand': 'Kitchenif', 'Price': 4000, 'Quantity': 25, 'Discount': 5}, '1013': {'Name': 'Garbage disposal', 'Brand': 'Franke', 'Price': 12000, 'Quantity': 25, 'Discount': 5}, '1014': {'Name': 'Popcorn popper', 'Brand': 'Zebronix', 'Price': 1100, 'Quantity': 25, 'Discount': 5}, '1015': {'Name': 'Ice crusher', 'Brand': 'Mechrocks', 'Price': 400, 'Quantity': 20, 'Discount': 5}, '1016': {'Name': 'Refrigerator', 'Brand': 'Samsung', 'Price': 20000, 'Quantity': 5, 'Discount': 0}, '1017': {'Name': 'Hair dryer', 'Brand': 'Syska', 'Price': 700, 'Quantity': 15, 'Discount': 0}, '1018': {'Name': 'Electric blanket', 'Brand': 'Comfort Wool', 'Price': 3199, 'Quantity': 8, 'Discount': 5}, '1019': {'Name': 'Curling iron', 'Brand': 'Philips', 'Price': 1995, 'Quantity': 20, 'Discount': 0}, '1020': {'Name': 'Fax machine', 'Brand': 'HP', 'Price': 18999, 'Quantity': 5, 'Discount': 5}, '1021': {'Name': 'Air cleaner', 'Brand': 'Hullaards', 'Price': 1099, 'Quantity': 6, 'Discount': 0}, '1022': {'Name': 'Aquarium Heater', 'Brand': 'Buraq', 'Price': 299, 'Quantity': 20, 'Discount': 0}, '1023': {'Name': 'Vacuum cleaner', 'Brand': 'Inalsa', 'Price': 2699, 'Quantity': 5, 'Discount': 5}, '1024': {'Name': 'Ceiling Fan', 'Brand': 'Crompton', 'Price': 1699, 'Quantity': 15, 'Discount': 5}, '1025': {'Name': 'Water heater', 'Brand': 'Crompton', 'Price': 7835, 'Quantity': 3, 'Discount': 5}, '1026': {'Name': 'Electric lawn mower', 'Brand': 'Makita', 'Price': '11000', 'Quantity': 8, 'Discount': 0}, '1027': {'Name': 'Food processor', 'Brand': 'Borosil', 'Price': 4999, 'Quantity': 6, 'Discount': 5}, '1028': {'Name': 'Sewing machine', 'Brand': 'Usha', 'Price': 8000, 'Quantity': 4, 'Discount': 5}, '1029': {'Name': 'Refrigerator', 'Brand': 'LG', 'Price': 12900, 'Quantity': 5, 'Discount': 0}, '1030': {'Name': 'Clock', 'Brand': 'Craftter', 'Price': 3999, 'Quantity': 10, 'Discount': 5}}\n"
     ]
    }
   ],
   "source": [
    "print(\"***********Show the available Products***********\\n\",record)"
   ]
  },
  {
   "cell_type": "code",
   "execution_count": 4,
   "id": "ae90a64d",
   "metadata": {},
   "outputs": [],
   "source": [
    "fb = open(\"sales.json\",'r')\n",
    "p = fb.read()\n",
    "fb.close()\n",
    "\n",
    "s = json.loads(p)\n",
    "transaction_id = len(s)"
   ]
  },
  {
   "cell_type": "markdown",
   "id": "f856666e",
   "metadata": {},
   "source": [
    "# Purchase"
   ]
  },
  {
   "cell_type": "code",
   "execution_count": 6,
   "id": "a276a4ee",
   "metadata": {},
   "outputs": [
    {
     "name": "stdout",
     "output_type": "stream",
     "text": [
      "Enter the Product ID : 1001\n",
      "Enter the Quantity : 1\n",
      "Product :  Refrigerator\n",
      "Brand :  Whirlpool\n",
      "Price :  15000\n",
      "Quantity :  1\n",
      "Discount :  5\n",
      "*************************************************\n",
      "Total Amount :  15000\n",
      "After discount your bill is :  14250.0\n",
      "You Saved :  750.0\n",
      "************** THANK YOU FOR YOUR BUSINESS! *********************\n"
     ]
    }
   ],
   "source": [
    "ui_prod = str(input(\"Enter the Product ID : \"))\n",
    "if ui_prod not in record.keys():\n",
    "    print(\"Sorry this product is not in store\")\n",
    "else:\n",
    "    ui_quant = int(input(\"Enter the Quantity : \"))\n",
    "    \n",
    "    if(ui_quant <= record[ui_prod][\"Quantity\"]):\n",
    "        print(\"Product : \",record[ui_prod][\"Name\"])\n",
    "        print(\"Brand : \",record[ui_prod][\"Brand\"])\n",
    "        print(\"Price : \",record[ui_prod][\"Price\"])\n",
    "        print(\"Quantity : \",ui_quant)\n",
    "        print(\"Discount : \",record[ui_prod][\"Discount\"])\n",
    "        print(\"*************************************************\")\n",
    "        print(\"Total Amount : \",record[ui_prod][\"Price\"] * ui_quant)\n",
    "        disc_bill = (record[ui_prod][\"Price\"] * ui_quant) - ((record[ui_prod][\"Price\"] * ui_quant) * record[ui_prod][\"Discount\"] / 100)\n",
    "        print(\"After discount your bill is : \",disc_bill )\n",
    "        print(\"You Saved : \",(record[ui_prod][\"Price\"] * ui_quant) - disc_bill)\n",
    "        print(\"************** THANK YOU FOR YOUR BUSINESS! *********************\")\n",
    "\n",
    "        record[ui_prod][\"Quantity\"] = record[ui_prod][\"Quantity\"] - ui_quant\n",
    "        \n",
    "        js = json.dumps(record)\n",
    "\n",
    "        fd = open(\"record.json\",\"w\")\n",
    "        r = fd.write(js)\n",
    "        fd.close()\n",
    "        \n",
    "        \n",
    "        s[transaction_id] = {\"Product\": record[ui_prod][\"Name\"], \"Price\": record[ui_prod][\"Price\"], \"Brand\" :record[ui_prod][\"Brand\"], \"Quantity\" : ui_quant, \"Amount\": disc_bill}\n",
    "        transaction_id += 1\n",
    "        sale = json.dumps(s)\n",
    "\n",
    "        fd = open(\"sales.json\",\"w\")\n",
    "        fd.write(sale)\n",
    "        fd.close()\n",
    "    else:\n",
    "        print(\"We only have : \",record[ui_prod][\"Quantity\"])\n",
    "        "
   ]
  },
  {
   "cell_type": "code",
   "execution_count": 7,
   "id": "08ab9514",
   "metadata": {},
   "outputs": [],
   "source": [
    "fd = open(\"sales.json\",\"r\")\n",
    "r = fd.read()\n",
    "fd.close()\n",
    "\n",
    "s = json.loads(r)"
   ]
  },
  {
   "cell_type": "markdown",
   "id": "f1584c17",
   "metadata": {},
   "source": [
    "# Sales"
   ]
  },
  {
   "cell_type": "code",
   "execution_count": 33,
   "id": "dac8c5b6",
   "metadata": {},
   "outputs": [
    {
     "data": {
      "text/plain": [
       "{'1': {'Product': 'Refrigerator',\n",
       "  'Price': 15000,\n",
       "  'Brand': 'Whirlpool',\n",
       "  'Quantity': 1,\n",
       "  'Amount': 14250.0}}"
      ]
     },
     "execution_count": 33,
     "metadata": {},
     "output_type": "execute_result"
    }
   ],
   "source": [
    "s"
   ]
  },
  {
   "cell_type": "markdown",
   "id": "b70f9d19",
   "metadata": {},
   "source": [
    "# Add new items into Inventory"
   ]
  },
  {
   "cell_type": "code",
   "execution_count": 10,
   "id": "2dfa0069",
   "metadata": {},
   "outputs": [
    {
     "name": "stdout",
     "output_type": "stream",
     "text": [
      "Enter product ID : 1001\n",
      "Product already exists!!\n",
      "Enter Quantity:21\n",
      "Product Details Updated\n"
     ]
    }
   ],
   "source": [
    "prod_id = str(input(\"Enter product ID : \"))\n",
    "if(prod_id in record.keys()):\n",
    "    print(\"Product already exists!!\")\n",
    "    qn = int(input(\"Enter Quantity:\"))\n",
    "    qn += record[prod_id][\"Quantity\"]\n",
    "    record[prod_id] = {\"Name\" : record[prod_id][\"Name\"], \"Brand\" : record[prod_id][\"Brand\"], \"Price\" :record[prod_id][\"Price\"] , \"Quantity\" : qn, \"Discount\" :record[prod_id][\"Discount\"] }\n",
    "    print(\"Product Details Updated\")\n",
    "else:\n",
    "    name = str(input(\"Enter product name : \"))\n",
    "    brand = str(input(\"Enter product brand : \"))\n",
    "    price = int(input(\"Enter product price : \"))\n",
    "    quant = int(input(\"Enter product quantity : \"))\n",
    "    disc = int(input(\"Enter the discount : \"))\n",
    "    record[prod_id] = {\"Name\" : name, \"Brand\" : brand, \"Price\" : price, \"Quantity\" : quant, \"Discount\" : disc}\n",
    "    print(\"Product added to the List\")\n",
    "    \n",
    "js = json.dumps(record)\n",
    "\n",
    "fd = open(\"record.json\",\"w\")\n",
    "r = fd.write(js)\n",
    "fd.close()"
   ]
  },
  {
   "cell_type": "code",
   "execution_count": null,
   "id": "bf411be3",
   "metadata": {},
   "outputs": [],
   "source": []
  },
  {
   "cell_type": "code",
   "execution_count": null,
   "id": "a4f7314f",
   "metadata": {},
   "outputs": [],
   "source": []
  }
 ],
 "metadata": {
  "kernelspec": {
   "display_name": "Python 3",
   "language": "python",
   "name": "python3"
  },
  "language_info": {
   "codemirror_mode": {
    "name": "ipython",
    "version": 3
   },
   "file_extension": ".py",
   "mimetype": "text/x-python",
   "name": "python",
   "nbconvert_exporter": "python",
   "pygments_lexer": "ipython3",
   "version": "3.8.8"
  }
 },
 "nbformat": 4,
 "nbformat_minor": 5
}
